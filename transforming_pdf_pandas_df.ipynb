{
 "cells": [
  {
   "cell_type": "code",
   "execution_count": 19,
   "id": "excellent-defeat",
   "metadata": {},
   "outputs": [],
   "source": [
    "import pandas as pd\n",
    "import numpy as np "
   ]
  },
  {
   "cell_type": "code",
   "execution_count": 20,
   "id": "boolean-constitution",
   "metadata": {},
   "outputs": [],
   "source": [
    "import pandas as pd\n",
    "from tabula import convert_into,read_pdf\n",
    "convert_into('SP 10-2020 Relatório Sintético de Composições de Custos.pdf',\n",
    "              'SP 10-2020 Relatório Sintético de Composições de Custos.csv',\n",
    "              output_format='csv', pages='all')"
   ]
  },
  {
   "cell_type": "code",
   "execution_count": 21,
   "id": "confused-local",
   "metadata": {},
   "outputs": [],
   "source": [
    "df1 = pd.read_csv('SP 10-2020 Relatório Sintético de Composições de Custos.csv',header=None)\n",
    "#df1 = pd.read_csv('SP 10-2019 Relatório Sintético de Composições de Custos - Sem Desoneração.JSON',header=None)\n",
    "\n",
    "df1 = df1.rename(columns={0: 'Código', 1: 'Descrição do Serviço', 2 : 'Unidade', 3 : 'Custo Unitário (R$)'})\n",
    "\n"
   ]
  },
  {
   "cell_type": "code",
   "execution_count": 22,
   "id": "played-weight",
   "metadata": {},
   "outputs": [],
   "source": [
    "for i in range(8329):\n",
    "                \n",
    "    if pd.isnull(df1.iloc[i]['Código']) == True:\n",
    "        df1.at[i-1,'Descrição do Serviço'] = (str(df1.iloc[i]['Descrição do Serviço'])\n",
    "                                                    + ' ' + str(df1.iloc[i-1]['Descrição do Serviço']))\n"
   ]
  },
  {
   "cell_type": "code",
   "execution_count": 23,
   "id": "080304d0",
   "metadata": {},
   "outputs": [
    {
     "data": {
      "text/html": [
       "<div>\n",
       "<style scoped>\n",
       "    .dataframe tbody tr th:only-of-type {\n",
       "        vertical-align: middle;\n",
       "    }\n",
       "\n",
       "    .dataframe tbody tr th {\n",
       "        vertical-align: top;\n",
       "    }\n",
       "\n",
       "    .dataframe thead th {\n",
       "        text-align: right;\n",
       "    }\n",
       "</style>\n",
       "<table border=\"1\" class=\"dataframe\">\n",
       "  <thead>\n",
       "    <tr style=\"text-align: right;\">\n",
       "      <th></th>\n",
       "      <th>Código</th>\n",
       "      <th>Descrição do Serviço</th>\n",
       "      <th>Unidade</th>\n",
       "      <th>Custo Unitário (R$)</th>\n",
       "    </tr>\n",
       "  </thead>\n",
       "  <tbody>\n",
       "    <tr>\n",
       "      <th>0</th>\n",
       "      <td>307731.0</td>\n",
       "      <td>Aparelho de apoio de neoprene fretado para est...</td>\n",
       "      <td>dm3</td>\n",
       "      <td>86,05</td>\n",
       "    </tr>\n",
       "    <tr>\n",
       "      <th>1</th>\n",
       "      <td>307732.0</td>\n",
       "      <td>Aparelho de apoio de neoprene fretado para est...</td>\n",
       "      <td>dm3</td>\n",
       "      <td>64,24</td>\n",
       "    </tr>\n",
       "    <tr>\n",
       "      <th>2</th>\n",
       "      <td>308308.0</td>\n",
       "      <td>Aparelho de apoio metálico elastomérico fixo c...</td>\n",
       "      <td>un</td>\n",
       "      <td>15.214,13</td>\n",
       "    </tr>\n",
       "    <tr>\n",
       "      <th>3</th>\n",
       "      <td>308313.0</td>\n",
       "      <td>Aparelho de apoio metálico elastomérico fixo c...</td>\n",
       "      <td>un</td>\n",
       "      <td>98.620,85</td>\n",
       "    </tr>\n",
       "    <tr>\n",
       "      <th>4</th>\n",
       "      <td>308309.0</td>\n",
       "      <td>Aparelho de apoio metálico elastomérico fixo c...</td>\n",
       "      <td>un</td>\n",
       "      <td>24.767,75</td>\n",
       "    </tr>\n",
       "  </tbody>\n",
       "</table>\n",
       "</div>"
      ],
      "text/plain": [
       "    Código                            Descrição do Serviço Unidade  \\\n",
       "0  307731.0  Aparelho de apoio de neoprene fretado para est...     dm3   \n",
       "1  307732.0  Aparelho de apoio de neoprene fretado para est...     dm3   \n",
       "2  308308.0  Aparelho de apoio metálico elastomérico fixo c...      un   \n",
       "3  308313.0  Aparelho de apoio metálico elastomérico fixo c...      un   \n",
       "4  308309.0  Aparelho de apoio metálico elastomérico fixo c...      un   \n",
       "\n",
       "  Custo Unitário (R$)  \n",
       "0               86,05  \n",
       "1               64,24  \n",
       "2           15.214,13  \n",
       "3           98.620,85  \n",
       "4           24.767,75  "
      ]
     },
     "execution_count": 23,
     "metadata": {},
     "output_type": "execute_result"
    }
   ],
   "source": [
    "df1.head()"
   ]
  },
  {
   "cell_type": "code",
   "execution_count": 15,
   "id": "attended-illinois",
   "metadata": {},
   "outputs": [],
   "source": [
    "df1 = df1.dropna().reset_index().to_csv('SP 10-2020 Relatório Sintético de Composições de Custos.csv',encoding='utf-8')"
   ]
  }
 ],
 "metadata": {
  "kernelspec": {
   "display_name": "Python 3 (ipykernel)",
   "language": "python",
   "name": "python3"
  },
  "language_info": {
   "codemirror_mode": {
    "name": "ipython",
    "version": 3
   },
   "file_extension": ".py",
   "mimetype": "text/x-python",
   "name": "python",
   "nbconvert_exporter": "python",
   "pygments_lexer": "ipython3",
   "version": "3.8.12"
  }
 },
 "nbformat": 4,
 "nbformat_minor": 5
}
